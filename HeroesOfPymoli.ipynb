{
 "cells": [
  {
   "cell_type": "code",
   "execution_count": 15,
   "metadata": {},
   "outputs": [],
   "source": [
    "# Dependencies and Setup.\n",
    "import pandas as pd\n",
    "\n",
    "# File to Load.\n",
    "file_to_load = \"Resources/purchase_data.csv\"\n",
    "\n",
    "# Read Purchasing File and store into Pandas data frame.\n",
    "purchasedata = pd.read_csv(file_to_load, encoding=\"ISO-8859-1\")\n",
    "\n",
    "#Kindly note that some terms for the needed variables have been abbreviated and are followed by the gender's first letter or context (i.e. age) so that we may distinguish them (i.e. Purchase Count = pc, Total Purchase Value = tpv... This applies for the entirety of the notebook."
   ]
  },
  {
   "cell_type": "markdown",
   "metadata": {},
   "source": [
    "## Player Count"
   ]
  },
  {
   "cell_type": "markdown",
   "metadata": {},
   "source": [
    "* Display the total number of players\n"
   ]
  },
  {
   "cell_type": "code",
   "execution_count": 16,
   "metadata": {},
   "outputs": [
    {
     "output_type": "stream",
     "name": "stdout",
     "text": "The total number of unique players amounts to 576 users.\n"
    },
    {
     "output_type": "execute_result",
     "data": {
      "text/plain": "   Players\n0      576",
      "text/html": "<div>\n<style scoped>\n    .dataframe tbody tr th:only-of-type {\n        vertical-align: middle;\n    }\n\n    .dataframe tbody tr th {\n        vertical-align: top;\n    }\n\n    .dataframe thead th {\n        text-align: right;\n    }\n</style>\n<table border=\"1\" class=\"dataframe\">\n  <thead>\n    <tr style=\"text-align: right;\">\n      <th></th>\n      <th>Players</th>\n    </tr>\n  </thead>\n  <tbody>\n    <tr>\n      <th>0</th>\n      <td>576</td>\n    </tr>\n  </tbody>\n</table>\n</div>"
     },
     "metadata": {},
     "execution_count": 16
    }
   ],
   "source": [
    "players = len(purchasedata[\"SN\"].unique())\n",
    "print(\"The total number of unique players amounts to \" + str(players) + \" users.\")\n",
    "playertable = pd.DataFrame({\"Players\": [players]})\n",
    "playertable"
   ]
  },
  {
   "cell_type": "markdown",
   "metadata": {},
   "source": [
    "## Purchasing Analysis (Total)"
   ]
  },
  {
   "cell_type": "markdown",
   "metadata": {},
   "source": [
    "* Run basic calculations to obtain number of unique items, average price, etc.\n",
    "\n",
    "\n",
    "* Create a summary data frame to hold the results\n",
    "\n",
    "\n",
    "* Optional: give the displayed data cleaner formatting\n",
    "\n",
    "\n",
    "* Display the summary data frame\n"
   ]
  },
  {
   "cell_type": "code",
   "execution_count": 17,
   "metadata": {
    "scrolled": true
   },
   "outputs": [
    {
     "output_type": "execute_result",
     "data": {
      "text/plain": "   Number of Unique Items Average Purchase Price  Total Number of Purchases  \\\n0                     179                  $3.05                        780   \n\n  Total Revenue  \n0     $2,379.77  ",
      "text/html": "<div>\n<style scoped>\n    .dataframe tbody tr th:only-of-type {\n        vertical-align: middle;\n    }\n\n    .dataframe tbody tr th {\n        vertical-align: top;\n    }\n\n    .dataframe thead th {\n        text-align: right;\n    }\n</style>\n<table border=\"1\" class=\"dataframe\">\n  <thead>\n    <tr style=\"text-align: right;\">\n      <th></th>\n      <th>Number of Unique Items</th>\n      <th>Average Purchase Price</th>\n      <th>Total Number of Purchases</th>\n      <th>Total Revenue</th>\n    </tr>\n  </thead>\n  <tbody>\n    <tr>\n      <th>0</th>\n      <td>179</td>\n      <td>$3.05</td>\n      <td>780</td>\n      <td>$2,379.77</td>\n    </tr>\n  </tbody>\n</table>\n</div>"
     },
     "metadata": {},
     "execution_count": 17
    }
   ],
   "source": [
    "#Preliminary calculations.\n",
    "uniqueitems = len(purchasedata[\"Item ID\"].unique())\n",
    "average = purchasedata[\"Price\"].mean()\n",
    "purchases = purchasedata[\"Price\"].count()\n",
    "revenue = purchasedata[\"Price\"].sum()\n",
    "#Creating the DataFrame.\n",
    "purchasinganalysistotal = pd.DataFrame({\"Number of Unique Items\": [uniqueitems], \"Average Purchase Price\": average, \"Total Number of Purchases\": purchases, \"Total Revenue\": revenue})\n",
    "#Formatting.\n",
    "purchasinganalysistotal[\"Average Purchase Price\"] = purchasinganalysistotal[\"Average Purchase Price\"].map(\"${:.2f}\".format)\n",
    "purchasinganalysistotal[\"Total Revenue\"] = purchasinganalysistotal[\"Total Revenue\"].map(\"${:,.2f}\".format)\n",
    "#Displating the DataFrame.\n",
    "purchasinganalysistotal"
   ]
  },
  {
   "cell_type": "code",
   "execution_count": 18,
   "metadata": {},
   "outputs": [],
   "source": [
    "## Gender Demographics"
   ]
  },
  {
   "cell_type": "markdown",
   "metadata": {},
   "source": [
    "* Percentage and Count of Male Players\n",
    "\n",
    "\n",
    "* Percentage and Count of Female Players\n",
    "\n",
    "\n",
    "* Percentage and Count of Other / Non-Disclosed\n",
    "\n",
    "\n"
   ]
  },
  {
   "cell_type": "code",
   "execution_count": 19,
   "metadata": {},
   "outputs": [
    {
     "output_type": "execute_result",
     "data": {
      "text/plain": "                  Gender  Count Percentage\n0                   Male    484    84.03 %\n1                 Female     81    14.06 %\n2  Other / Non-Disclosed     11     1.91 %\n3                    Sum    576   100.00 %",
      "text/html": "<div>\n<style scoped>\n    .dataframe tbody tr th:only-of-type {\n        vertical-align: middle;\n    }\n\n    .dataframe tbody tr th {\n        vertical-align: top;\n    }\n\n    .dataframe thead th {\n        text-align: right;\n    }\n</style>\n<table border=\"1\" class=\"dataframe\">\n  <thead>\n    <tr style=\"text-align: right;\">\n      <th></th>\n      <th>Gender</th>\n      <th>Count</th>\n      <th>Percentage</th>\n    </tr>\n  </thead>\n  <tbody>\n    <tr>\n      <th>0</th>\n      <td>Male</td>\n      <td>484</td>\n      <td>84.03 %</td>\n    </tr>\n    <tr>\n      <th>1</th>\n      <td>Female</td>\n      <td>81</td>\n      <td>14.06 %</td>\n    </tr>\n    <tr>\n      <th>2</th>\n      <td>Other / Non-Disclosed</td>\n      <td>11</td>\n      <td>1.91 %</td>\n    </tr>\n    <tr>\n      <th>3</th>\n      <td>Sum</td>\n      <td>576</td>\n      <td>100.00 %</td>\n    </tr>\n  </tbody>\n</table>\n</div>"
     },
     "metadata": {},
     "execution_count": 19
    }
   ],
   "source": [
    "#Males.\n",
    "males = purchasedata.loc[purchasedata[\"Gender\"]==\"Male\"]\n",
    "uniqueM = len(males[\"SN\"].unique())\n",
    "#Females.\n",
    "females = purchasedata.loc[purchasedata[\"Gender\"]==\"Female\"]\n",
    "uniqueF = len(females[\"SN\"].unique())\n",
    "#Other / Non-disclosed.\n",
    "other = purchasedata.loc[purchasedata[\"Gender\"]==\"Other / Non-Disclosed\"]\n",
    "uniqueO = len(other[\"SN\"].unique())\n",
    "#Calculating respective percentages & formatting.\n",
    "percentM = float((uniqueM / players * 100))\n",
    "percentF = float((uniqueF / players * 100))\n",
    "percentO = float((uniqueO / players * 100))\n",
    "percentT = float(sum([percentM,percentF,percentO]))\n",
    "#Creating the DataFrame.\n",
    "genderdemographics = pd.DataFrame([{\"Gender\": \"Male\", \"Count\": uniqueM, \"Percentage\": percentM},{\"Gender\": \"Female\", \"Count\": uniqueF, \"Percentage\": percentF},{\"Gender\": \"Other / Non-Disclosed\", \"Count\": uniqueO, \"Percentage\": percentO},{\"Gender\": \"Sum\", \"Count\": players, \"Percentage\": percentT}])\n",
    "#Formatting.\n",
    "genderdemographics[\"Percentage\"] = genderdemographics[\"Percentage\"].map('{:,.2f} %'.format)\n",
    "#DataFrame.\n",
    "genderdemographics"
   ]
  },
  {
   "cell_type": "code",
   "execution_count": 20,
   "metadata": {},
   "outputs": [],
   "source": [
    "## Purchasing Analysis (Gender)"
   ]
  },
  {
   "cell_type": "markdown",
   "metadata": {},
   "source": [
    "* Run basic calculations to obtain purchase count, avg. purchase price, avg. purchase total per person etc. by gender\n",
    "\n",
    "\n",
    "\n",
    "\n",
    "* Create a summary data frame to hold the results\n",
    "\n",
    "\n",
    "* Optional: give the displayed data cleaner formatting\n",
    "\n",
    "\n",
    "* Display the summary data frame"
   ]
  },
  {
   "cell_type": "code",
   "execution_count": 21,
   "metadata": {},
   "outputs": [
    {
     "output_type": "execute_result",
     "data": {
      "text/plain": "                   Gender:  Purchase Count Average Purchase Price  \\\n0                     Male             652                  $3.02   \n1                   Female             113                  $3.20   \n2  Other / Non - Disclosed              15                  $3.35   \n\n  Total Purchase Value Average Purchase Total  \n0            $1,967.64                  $4.07  \n1              $361.94                  $4.47  \n2               $50.19                  $4.56  ",
      "text/html": "<div>\n<style scoped>\n    .dataframe tbody tr th:only-of-type {\n        vertical-align: middle;\n    }\n\n    .dataframe tbody tr th {\n        vertical-align: top;\n    }\n\n    .dataframe thead th {\n        text-align: right;\n    }\n</style>\n<table border=\"1\" class=\"dataframe\">\n  <thead>\n    <tr style=\"text-align: right;\">\n      <th></th>\n      <th>Gender:</th>\n      <th>Purchase Count</th>\n      <th>Average Purchase Price</th>\n      <th>Total Purchase Value</th>\n      <th>Average Purchase Total</th>\n    </tr>\n  </thead>\n  <tbody>\n    <tr>\n      <th>0</th>\n      <td>Male</td>\n      <td>652</td>\n      <td>$3.02</td>\n      <td>$1,967.64</td>\n      <td>$4.07</td>\n    </tr>\n    <tr>\n      <th>1</th>\n      <td>Female</td>\n      <td>113</td>\n      <td>$3.20</td>\n      <td>$361.94</td>\n      <td>$4.47</td>\n    </tr>\n    <tr>\n      <th>2</th>\n      <td>Other / Non - Disclosed</td>\n      <td>15</td>\n      <td>$3.35</td>\n      <td>$50.19</td>\n      <td>$4.56</td>\n    </tr>\n  </tbody>\n</table>\n</div>"
     },
     "metadata": {},
     "execution_count": 21
    }
   ],
   "source": [
    "#Males.\n",
    "pcM = len(purchasedata.loc[purchasedata[\"Gender\"]==\"Male\"])\n",
    "appM = float(purchasedata.loc[purchasedata[\"Gender\"]==\"Male\", [\"Price\"]].mean())\n",
    "tpvM = float(purchasedata.loc[purchasedata[\"Gender\"]==\"Male\", [\"Price\"]].sum())\n",
    "aptM = float(tpvM/uniqueM)\n",
    "#Females.\n",
    "pcF = len(purchasedata.loc[purchasedata[\"Gender\"]==\"Female\"])\n",
    "appF = float(purchasedata.loc[purchasedata[\"Gender\"]==\"Female\", [\"Price\"]].mean())\n",
    "tpvF = float(purchasedata.loc[purchasedata[\"Gender\"]==\"Female\", [\"Price\"]].sum())\n",
    "aptF = float(tpvF/uniqueF)\n",
    "#Other / Non - Disclosed.\n",
    "pcO = len(purchasedata.loc[purchasedata[\"Gender\"]==\"Other / Non-Disclosed\"])\n",
    "appO = float(purchasedata.loc[purchasedata[\"Gender\"]==\"Other / Non-Disclosed\", [\"Price\"]].mean())\n",
    "tpvO = float(purchasedata.loc[purchasedata[\"Gender\"]==\"Other / Non-Disclosed\", [\"Price\"]].sum())\n",
    "aptO = float(tpvO/uniqueO)\n",
    "#Creating the DataFrame.\n",
    "purchasinganalysisgender = pd.DataFrame([{\"Gender:\": \"Male\", \"Purchase Count\": pcM, \"Average Purchase Price\": appM, \"Total Purchase Value\": tpvM, \"Average Purchase Total\": aptM},\n",
    "{\"Gender:\": \"Female\", \"Purchase Count\": pcF, \"Average Purchase Price\": appF, \"Total Purchase Value\": tpvF, \"Average Purchase Total\": aptF},\n",
    "{\"Gender:\": \"Other / Non - Disclosed\", \"Purchase Count\": pcO, \"Average Purchase Price\": appO, \"Total Purchase Value\": tpvO, \"Average Purchase Total\": aptO}])\n",
    "#Formatting.\n",
    "purchasinganalysisgender[\"Average Purchase Price\"] = purchasinganalysisgender[\"Average Purchase Price\"].map(\"${:,.2f}\".format)\n",
    "purchasinganalysisgender[\"Total Purchase Value\"] = purchasinganalysisgender[\"Total Purchase Value\"].map(\"${:,.2f}\".format)\n",
    "purchasinganalysisgender[\"Average Purchase Total\"] = purchasinganalysisgender[\"Average Purchase Total\"].map(\"${:,.2f}\".format)\n",
    "#DataFrame.\n",
    "purchasinganalysisgender"
   ]
  },
  {
   "cell_type": "markdown",
   "metadata": {},
   "source": [
    "## Age Demographics"
   ]
  },
  {
   "cell_type": "markdown",
   "metadata": {},
   "source": [
    "* Establish bins for ages\n",
    "\n",
    "\n",
    "* Categorize the existing players using the age bins. Hint: use pd.cut()\n",
    "\n",
    "\n",
    "* Calculate the numbers and percentages by age group\n",
    "\n",
    "\n",
    "* Create a summary data frame to hold the results\n",
    "\n",
    "\n",
    "* Optional: round the percentage column to two decimal points\n",
    "\n",
    "\n",
    "* Display Age Demographics Table\n"
   ]
  },
  {
   "cell_type": "code",
   "execution_count": 22,
   "metadata": {},
   "outputs": [
    {
     "output_type": "execute_result",
     "data": {
      "text/plain": "                 Player Frequency (Absolute)  \\\nAge Range                                      \n<10                                       17   \nBetween 10 & 14                           22   \nBetween 15 & 19                          107   \nBetween 20 & 24                          258   \nBetween 25 & 29                           77   \nBetween 30 & 34                           52   \nBetween 35 & 39                           31   \n40 & Above                                12   \n\n                Player Frequency (Absolute Percentage)  \nAge Range                                               \n<10                                             2.95 %  \nBetween 10 & 14                                 3.82 %  \nBetween 15 & 19                                18.58 %  \nBetween 20 & 24                                44.79 %  \nBetween 25 & 29                                13.37 %  \nBetween 30 & 34                                 9.03 %  \nBetween 35 & 39                                 5.38 %  \n40 & Above                                      2.08 %  ",
      "text/html": "<div>\n<style scoped>\n    .dataframe tbody tr th:only-of-type {\n        vertical-align: middle;\n    }\n\n    .dataframe tbody tr th {\n        vertical-align: top;\n    }\n\n    .dataframe thead th {\n        text-align: right;\n    }\n</style>\n<table border=\"1\" class=\"dataframe\">\n  <thead>\n    <tr style=\"text-align: right;\">\n      <th></th>\n      <th>Player Frequency (Absolute)</th>\n      <th>Player Frequency (Absolute Percentage)</th>\n    </tr>\n    <tr>\n      <th>Age Range</th>\n      <th></th>\n      <th></th>\n    </tr>\n  </thead>\n  <tbody>\n    <tr>\n      <th>&lt;10</th>\n      <td>17</td>\n      <td>2.95 %</td>\n    </tr>\n    <tr>\n      <th>Between 10 &amp; 14</th>\n      <td>22</td>\n      <td>3.82 %</td>\n    </tr>\n    <tr>\n      <th>Between 15 &amp; 19</th>\n      <td>107</td>\n      <td>18.58 %</td>\n    </tr>\n    <tr>\n      <th>Between 20 &amp; 24</th>\n      <td>258</td>\n      <td>44.79 %</td>\n    </tr>\n    <tr>\n      <th>Between 25 &amp; 29</th>\n      <td>77</td>\n      <td>13.37 %</td>\n    </tr>\n    <tr>\n      <th>Between 30 &amp; 34</th>\n      <td>52</td>\n      <td>9.03 %</td>\n    </tr>\n    <tr>\n      <th>Between 35 &amp; 39</th>\n      <td>31</td>\n      <td>5.38 %</td>\n    </tr>\n    <tr>\n      <th>40 &amp; Above</th>\n      <td>12</td>\n      <td>2.08 %</td>\n    </tr>\n  </tbody>\n</table>\n</div>"
     },
     "metadata": {},
     "execution_count": 22
    }
   ],
   "source": [
    "#Setting bins and the intervals.\n",
    "bins = [0,9,14,19,24,29,34,39,46]\n",
    "intervals= [\"<10\", \"Between 10 & 14\", \"Between 15 & 19\", \"Between 20 & 24\", \"Between 25 & 29\", \"Between 30 & 34\", \"Between 35 & 39\", \"40 & Above\"]\n",
    "#Adding a column for grouping purposes.\n",
    "purchasedata[\"Age Range\"] = pd.cut(purchasedata[\"Age\"], bins, labels=intervals)\n",
    "#Grouping.\n",
    "#.nunique() was found online after quite some time attempting to find a solution for this part of the problem. Here is the link to the stack overflow page: https://stackoverflow.com/questions/38309729/count-unique-values-with-pandas-per-groups.\n",
    "grouped = purchasedata.groupby(\"Age Range\")\n",
    "noduplicates = grouped[\"SN\"].nunique()\n",
    "pcA = grouped[\"SN\"].count()\n",
    "appA = grouped[\"Price\"].mean()\n",
    "tpvA = grouped[\"Price\"].sum()\n",
    "aptA = tpvA/noduplicates\n",
    "intervalpercentages = (noduplicates/players) * 100\n",
    "#Creating the DataFrames. Note that this DataFrame is for both the Age Demographics and the Purchasis Analysis (Age).\n",
    "agedemographics = pd.DataFrame({\"Player Frequency (Absolute)\": noduplicates,\"Player Frequency (Absolute Percentage)\": intervalpercentages, \"Purchase Count\": pcA, \"Average Purchase Price\": appA, \"Total Purchase Value\": tpvA, \"Average Purchase Total per Person\": aptA})\n",
    "#Formatting.\n",
    "agedemographics[\"Player Frequency (Absolute Percentage)\"] = agedemographics[\"Player Frequency (Absolute Percentage)\"].map(\"{:,.2f} %\".format)\n",
    "agedemographics[\"Average Purchase Price\"] = agedemographics[\"Average Purchase Price\"].map(\"${:,.2f}\".format)\n",
    "agedemographics[\"Total Purchase Value\"] = agedemographics[\"Total Purchase Value\"].map(\"${:,.2f}\".format)\n",
    "agedemographics[\"Average Purchase Total per Person\"] = agedemographics[\"Average Purchase Total per Person\"].map(\"${:,.2f}\".format)\n",
    "#DataFrame. Please note that the above created DataFrame includes the data needed for this part and the next part of the problem. Columns have been dropped from the DataFrame in order to display it according to the given instructions.\n",
    "agedemographics1 = agedemographics.copy()\n",
    "agedemographics1 = agedemographics1.drop([\"Purchase Count\", \"Average Purchase Price\", \"Total Purchase Value\", \"Average Purchase Total per Person\"], axis = 1)\n",
    "agedemographics1"
   ]
  },
  {
   "cell_type": "markdown",
   "metadata": {},
   "source": [
    "## Purchasing Analysis (Age)"
   ]
  },
  {
   "cell_type": "markdown",
   "metadata": {},
   "source": [
    "* Bin the purchase_data data frame by age\n",
    "\n",
    "\n",
    "* Run basic calculations to obtain purchase count, avg. purchase price, avg. purchase total per person etc. in the table below\n",
    "\n",
    "\n",
    "* Create a summary data frame to hold the results\n",
    "\n",
    "\n",
    "* Optional: give the displayed data cleaner formatting\n",
    "\n",
    "\n",
    "* Display the summary data frame"
   ]
  },
  {
   "cell_type": "code",
   "execution_count": 23,
   "metadata": {},
   "outputs": [
    {
     "output_type": "execute_result",
     "data": {
      "text/plain": "                 Purchase Count Average Purchase Price Total Purchase Value  \\\nAge Range                                                                     \n<10                          23                  $3.35               $77.13   \nBetween 10 & 14              28                  $2.96               $82.78   \nBetween 15 & 19             136                  $3.04              $412.89   \nBetween 20 & 24             365                  $3.05            $1,114.06   \nBetween 25 & 29             101                  $2.90              $293.00   \nBetween 30 & 34              73                  $2.93              $214.00   \nBetween 35 & 39              41                  $3.60              $147.67   \n40 & Above                   13                  $2.94               $38.24   \n\n                Average Purchase Total per Person  \nAge Range                                          \n<10                                         $4.54  \nBetween 10 & 14                             $3.76  \nBetween 15 & 19                             $3.86  \nBetween 20 & 24                             $4.32  \nBetween 25 & 29                             $3.81  \nBetween 30 & 34                             $4.12  \nBetween 35 & 39                             $4.76  \n40 & Above                                  $3.19  ",
      "text/html": "<div>\n<style scoped>\n    .dataframe tbody tr th:only-of-type {\n        vertical-align: middle;\n    }\n\n    .dataframe tbody tr th {\n        vertical-align: top;\n    }\n\n    .dataframe thead th {\n        text-align: right;\n    }\n</style>\n<table border=\"1\" class=\"dataframe\">\n  <thead>\n    <tr style=\"text-align: right;\">\n      <th></th>\n      <th>Purchase Count</th>\n      <th>Average Purchase Price</th>\n      <th>Total Purchase Value</th>\n      <th>Average Purchase Total per Person</th>\n    </tr>\n    <tr>\n      <th>Age Range</th>\n      <th></th>\n      <th></th>\n      <th></th>\n      <th></th>\n    </tr>\n  </thead>\n  <tbody>\n    <tr>\n      <th>&lt;10</th>\n      <td>23</td>\n      <td>$3.35</td>\n      <td>$77.13</td>\n      <td>$4.54</td>\n    </tr>\n    <tr>\n      <th>Between 10 &amp; 14</th>\n      <td>28</td>\n      <td>$2.96</td>\n      <td>$82.78</td>\n      <td>$3.76</td>\n    </tr>\n    <tr>\n      <th>Between 15 &amp; 19</th>\n      <td>136</td>\n      <td>$3.04</td>\n      <td>$412.89</td>\n      <td>$3.86</td>\n    </tr>\n    <tr>\n      <th>Between 20 &amp; 24</th>\n      <td>365</td>\n      <td>$3.05</td>\n      <td>$1,114.06</td>\n      <td>$4.32</td>\n    </tr>\n    <tr>\n      <th>Between 25 &amp; 29</th>\n      <td>101</td>\n      <td>$2.90</td>\n      <td>$293.00</td>\n      <td>$3.81</td>\n    </tr>\n    <tr>\n      <th>Between 30 &amp; 34</th>\n      <td>73</td>\n      <td>$2.93</td>\n      <td>$214.00</td>\n      <td>$4.12</td>\n    </tr>\n    <tr>\n      <th>Between 35 &amp; 39</th>\n      <td>41</td>\n      <td>$3.60</td>\n      <td>$147.67</td>\n      <td>$4.76</td>\n    </tr>\n    <tr>\n      <th>40 &amp; Above</th>\n      <td>13</td>\n      <td>$2.94</td>\n      <td>$38.24</td>\n      <td>$3.19</td>\n    </tr>\n  </tbody>\n</table>\n</div>"
     },
     "metadata": {},
     "execution_count": 23
    }
   ],
   "source": [
    "#The DataFrame is being displayed here once again as I combined both parts. See above notes for details.\n",
    "agedemographics2 = agedemographics.copy()\n",
    "agedemographics2 = agedemographics2.drop([\"Player Frequency (Absolute)\",\"Player Frequency (Absolute Percentage)\"], axis =1)\n",
    "agedemographics2"
   ]
  },
  {
   "cell_type": "code",
   "execution_count": 24,
   "metadata": {},
   "outputs": [
    {
     "output_type": "execute_result",
     "data": {
      "text/plain": "                 Player Frequency (Absolute)  \\\nAge Range                                      \n<10                                       17   \nBetween 10 & 14                           22   \nBetween 15 & 19                          107   \nBetween 20 & 24                          258   \nBetween 25 & 29                           77   \nBetween 30 & 34                           52   \nBetween 35 & 39                           31   \n40 & Above                                12   \n\n                Player Frequency (Absolute Percentage)  Purchase Count  \\\nAge Range                                                                \n<10                                             2.95 %              23   \nBetween 10 & 14                                 3.82 %              28   \nBetween 15 & 19                                18.58 %             136   \nBetween 20 & 24                                44.79 %             365   \nBetween 25 & 29                                13.37 %             101   \nBetween 30 & 34                                 9.03 %              73   \nBetween 35 & 39                                 5.38 %              41   \n40 & Above                                      2.08 %              13   \n\n                Average Purchase Price Total Purchase Value  \\\nAge Range                                                     \n<10                              $3.35               $77.13   \nBetween 10 & 14                  $2.96               $82.78   \nBetween 15 & 19                  $3.04              $412.89   \nBetween 20 & 24                  $3.05            $1,114.06   \nBetween 25 & 29                  $2.90              $293.00   \nBetween 30 & 34                  $2.93              $214.00   \nBetween 35 & 39                  $3.60              $147.67   \n40 & Above                       $2.94               $38.24   \n\n                Average Purchase Total per Person  \nAge Range                                          \n<10                                         $4.54  \nBetween 10 & 14                             $3.76  \nBetween 15 & 19                             $3.86  \nBetween 20 & 24                             $4.32  \nBetween 25 & 29                             $3.81  \nBetween 30 & 34                             $4.12  \nBetween 35 & 39                             $4.76  \n40 & Above                                  $3.19  ",
      "text/html": "<div>\n<style scoped>\n    .dataframe tbody tr th:only-of-type {\n        vertical-align: middle;\n    }\n\n    .dataframe tbody tr th {\n        vertical-align: top;\n    }\n\n    .dataframe thead th {\n        text-align: right;\n    }\n</style>\n<table border=\"1\" class=\"dataframe\">\n  <thead>\n    <tr style=\"text-align: right;\">\n      <th></th>\n      <th>Player Frequency (Absolute)</th>\n      <th>Player Frequency (Absolute Percentage)</th>\n      <th>Purchase Count</th>\n      <th>Average Purchase Price</th>\n      <th>Total Purchase Value</th>\n      <th>Average Purchase Total per Person</th>\n    </tr>\n    <tr>\n      <th>Age Range</th>\n      <th></th>\n      <th></th>\n      <th></th>\n      <th></th>\n      <th></th>\n      <th></th>\n    </tr>\n  </thead>\n  <tbody>\n    <tr>\n      <th>&lt;10</th>\n      <td>17</td>\n      <td>2.95 %</td>\n      <td>23</td>\n      <td>$3.35</td>\n      <td>$77.13</td>\n      <td>$4.54</td>\n    </tr>\n    <tr>\n      <th>Between 10 &amp; 14</th>\n      <td>22</td>\n      <td>3.82 %</td>\n      <td>28</td>\n      <td>$2.96</td>\n      <td>$82.78</td>\n      <td>$3.76</td>\n    </tr>\n    <tr>\n      <th>Between 15 &amp; 19</th>\n      <td>107</td>\n      <td>18.58 %</td>\n      <td>136</td>\n      <td>$3.04</td>\n      <td>$412.89</td>\n      <td>$3.86</td>\n    </tr>\n    <tr>\n      <th>Between 20 &amp; 24</th>\n      <td>258</td>\n      <td>44.79 %</td>\n      <td>365</td>\n      <td>$3.05</td>\n      <td>$1,114.06</td>\n      <td>$4.32</td>\n    </tr>\n    <tr>\n      <th>Between 25 &amp; 29</th>\n      <td>77</td>\n      <td>13.37 %</td>\n      <td>101</td>\n      <td>$2.90</td>\n      <td>$293.00</td>\n      <td>$3.81</td>\n    </tr>\n    <tr>\n      <th>Between 30 &amp; 34</th>\n      <td>52</td>\n      <td>9.03 %</td>\n      <td>73</td>\n      <td>$2.93</td>\n      <td>$214.00</td>\n      <td>$4.12</td>\n    </tr>\n    <tr>\n      <th>Between 35 &amp; 39</th>\n      <td>31</td>\n      <td>5.38 %</td>\n      <td>41</td>\n      <td>$3.60</td>\n      <td>$147.67</td>\n      <td>$4.76</td>\n    </tr>\n    <tr>\n      <th>40 &amp; Above</th>\n      <td>12</td>\n      <td>2.08 %</td>\n      <td>13</td>\n      <td>$2.94</td>\n      <td>$38.24</td>\n      <td>$3.19</td>\n    </tr>\n  </tbody>\n</table>\n</div>"
     },
     "metadata": {},
     "execution_count": 24
    }
   ],
   "source": [
    "#Combining both of the above by posting the original created DataFrame for age demographics.\n",
    "agedemographics"
   ]
  },
  {
   "cell_type": "markdown",
   "metadata": {},
   "source": [
    "## Top Spenders"
   ]
  },
  {
   "cell_type": "markdown",
   "metadata": {},
   "source": [
    "* Run basic calculations to obtain the results in the table below\n",
    "\n",
    "\n",
    "* Create a summary data frame to hold the results\n",
    "\n",
    "\n",
    "* Sort the total purchase value column in descending order\n",
    "\n",
    "\n",
    "* Optional: give the displayed data cleaner formatting\n",
    "\n",
    "\n",
    "* Display a preview of the summary data frame\n",
    "\n"
   ]
  },
  {
   "cell_type": "code",
   "execution_count": 25,
   "metadata": {},
   "outputs": [
    {
     "output_type": "execute_result",
     "data": {
      "text/plain": "             Purchase Count Average Purchase Price Total Purchase Value\nSN                                                                     \nLisosia93                 5                  $3.79               $18.96\nIdastidru52               4                  $3.86               $15.45\nChamjask73                3                  $4.61               $13.83\nIral74                    4                  $3.40               $13.62\nIskadarya95               3                  $4.37               $13.10",
      "text/html": "<div>\n<style scoped>\n    .dataframe tbody tr th:only-of-type {\n        vertical-align: middle;\n    }\n\n    .dataframe tbody tr th {\n        vertical-align: top;\n    }\n\n    .dataframe thead th {\n        text-align: right;\n    }\n</style>\n<table border=\"1\" class=\"dataframe\">\n  <thead>\n    <tr style=\"text-align: right;\">\n      <th></th>\n      <th>Purchase Count</th>\n      <th>Average Purchase Price</th>\n      <th>Total Purchase Value</th>\n    </tr>\n    <tr>\n      <th>SN</th>\n      <th></th>\n      <th></th>\n      <th></th>\n    </tr>\n  </thead>\n  <tbody>\n    <tr>\n      <th>Lisosia93</th>\n      <td>5</td>\n      <td>$3.79</td>\n      <td>$18.96</td>\n    </tr>\n    <tr>\n      <th>Idastidru52</th>\n      <td>4</td>\n      <td>$3.86</td>\n      <td>$15.45</td>\n    </tr>\n    <tr>\n      <th>Chamjask73</th>\n      <td>3</td>\n      <td>$4.61</td>\n      <td>$13.83</td>\n    </tr>\n    <tr>\n      <th>Iral74</th>\n      <td>4</td>\n      <td>$3.40</td>\n      <td>$13.62</td>\n    </tr>\n    <tr>\n      <th>Iskadarya95</th>\n      <td>3</td>\n      <td>$4.37</td>\n      <td>$13.10</td>\n    </tr>\n  </tbody>\n</table>\n</div>"
     },
     "metadata": {},
     "execution_count": 25
    }
   ],
   "source": [
    "top = purchasedata.groupby(\"SN\")\n",
    "#Preliminary calculations.\n",
    "pcS = top[\"Purchase ID\"].count()\n",
    "appS = top[\"Price\"].mean()\n",
    "tpvS = top[\"Price\"].sum()\n",
    "#Creating the DataFrame.\n",
    "spenders = pd.DataFrame({\"Purchase Count\": pcS, \"Average Purchase Price\": appS, \"Total Purchase Value\": tpvS})\n",
    "#Sorting\n",
    "spenders = spenders.sort_values([\"Total Purchase Value\"], ascending=False)\n",
    "#Formatting.\n",
    "spenders[\"Average Purchase Price\"] = spenders[\"Average Purchase Price\"].map(\"${:,.2f}\".format)\n",
    "spenders[\"Total Purchase Value\"] = spenders[\"Total Purchase Value\"].map(\"${:,.2f}\".format)\n",
    "#Displaying the first 5 values of the DataFrame\n",
    "spenders.head(5)"
   ]
  },
  {
   "cell_type": "markdown",
   "metadata": {},
   "source": [
    "## Most Popular Items"
   ]
  },
  {
   "cell_type": "markdown",
   "metadata": {},
   "source": [
    "* Retrieve the Item ID, Item Name, and Item Price columns\n",
    "\n",
    "\n",
    "* Group by Item ID and Item Name. Perform calculations to obtain purchase count, item price, and total purchase value\n",
    "\n",
    "\n",
    "* Create a summary data frame to hold the results\n",
    "\n",
    "\n",
    "* Sort the purchase count column in descending order\n",
    "\n",
    "\n",
    "* Optional: give the displayed data cleaner formatting\n",
    "\n",
    "\n",
    "* Display a preview of the summary data frame\n",
    "\n"
   ]
  },
  {
   "cell_type": "code",
   "execution_count": 26,
   "metadata": {},
   "outputs": [
    {
     "output_type": "execute_result",
     "data": {
      "text/plain": "                                              Item Name  Purchase Count  \\\nItem ID                                                                   \n92                                       [Final Critic]              13   \n178      [Oathbreaker, Last Hope of the Breaking Storm]              12   \n145                              [Fiery Glass Crusader]               9   \n132                                        [Persuasion]               9   \n108         [Extraction, Quickblade Of Trembling Hands]               9   \n\n        Item Price Total Purchase Value  \nItem ID                                  \n92           $4.61               $59.99  \n178          $4.23               $50.76  \n145          $4.58               $41.22  \n132          $3.22               $28.99  \n108          $3.53               $31.77  ",
      "text/html": "<div>\n<style scoped>\n    .dataframe tbody tr th:only-of-type {\n        vertical-align: middle;\n    }\n\n    .dataframe tbody tr th {\n        vertical-align: top;\n    }\n\n    .dataframe thead th {\n        text-align: right;\n    }\n</style>\n<table border=\"1\" class=\"dataframe\">\n  <thead>\n    <tr style=\"text-align: right;\">\n      <th></th>\n      <th>Item Name</th>\n      <th>Purchase Count</th>\n      <th>Item Price</th>\n      <th>Total Purchase Value</th>\n    </tr>\n    <tr>\n      <th>Item ID</th>\n      <th></th>\n      <th></th>\n      <th></th>\n      <th></th>\n    </tr>\n  </thead>\n  <tbody>\n    <tr>\n      <th>92</th>\n      <td>[Final Critic]</td>\n      <td>13</td>\n      <td>$4.61</td>\n      <td>$59.99</td>\n    </tr>\n    <tr>\n      <th>178</th>\n      <td>[Oathbreaker, Last Hope of the Breaking Storm]</td>\n      <td>12</td>\n      <td>$4.23</td>\n      <td>$50.76</td>\n    </tr>\n    <tr>\n      <th>145</th>\n      <td>[Fiery Glass Crusader]</td>\n      <td>9</td>\n      <td>$4.58</td>\n      <td>$41.22</td>\n    </tr>\n    <tr>\n      <th>132</th>\n      <td>[Persuasion]</td>\n      <td>9</td>\n      <td>$3.22</td>\n      <td>$28.99</td>\n    </tr>\n    <tr>\n      <th>108</th>\n      <td>[Extraction, Quickblade Of Trembling Hands]</td>\n      <td>9</td>\n      <td>$3.53</td>\n      <td>$31.77</td>\n    </tr>\n  </tbody>\n</table>\n</div>"
     },
     "metadata": {},
     "execution_count": 26
    }
   ],
   "source": [
    "popular = purchasedata.groupby([\"Item ID\"])\n",
    "#Preliminary calculations.\n",
    "name = popular[\"Item Name\"].unique()\n",
    "pcP = popular[\"Price\"].count()\n",
    "price = popular[\"Price\"].sum() / pcP\n",
    "tpvP = price * pcP\n",
    "#Creating the DataFrame.\n",
    "items = pd.DataFrame({\"Item Name\": name,\"Purchase Count\": pcP,\"Item Price\": price, \"Total Purchase Value\": tpvP})\n",
    "items = items.sort_values([\"Purchase Count\"], ascending=False)\n",
    "#Formatting.\n",
    "items[\"Item Price\"] = items[\"Item Price\"].map(\"${:,.2f}\".format)\n",
    "items[\"Total Purchase Value\"] = items[\"Total Purchase Value\"].map(\"${:,.2f}\".format)\n",
    "#Displaying the first 5 values of the DataFrame\n",
    "items.head(5)"
   ]
  },
  {
   "cell_type": "markdown",
   "metadata": {},
   "source": [
    "## Most Profitable Items"
   ]
  },
  {
   "cell_type": "markdown",
   "metadata": {},
   "source": [
    "* Sort the above table by total purchase value in descending order\n",
    "\n",
    "\n",
    "* Optional: give the displayed data cleaner formatting\n",
    "\n",
    "\n",
    "* Display a preview of the data frame\n",
    "\n"
   ]
  },
  {
   "cell_type": "code",
   "execution_count": 27,
   "metadata": {
    "scrolled": true
   },
   "outputs": [
    {
     "output_type": "execute_result",
     "data": {
      "text/plain": "                                              Item Name  Purchase Count  \\\nItem ID                                                                   \n92                                       [Final Critic]              13   \n178      [Oathbreaker, Last Hope of the Breaking Storm]              12   \n82                                            [Nirvana]               9   \n145                              [Fiery Glass Crusader]               9   \n103                                    [Singed Scalpel]               8   \n\n        Item Price Total Purchase Value  \nItem ID                                  \n92           $4.61               $59.99  \n178          $4.23               $50.76  \n82           $4.90               $44.10  \n145          $4.58               $41.22  \n103          $4.35               $34.80  ",
      "text/html": "<div>\n<style scoped>\n    .dataframe tbody tr th:only-of-type {\n        vertical-align: middle;\n    }\n\n    .dataframe tbody tr th {\n        vertical-align: top;\n    }\n\n    .dataframe thead th {\n        text-align: right;\n    }\n</style>\n<table border=\"1\" class=\"dataframe\">\n  <thead>\n    <tr style=\"text-align: right;\">\n      <th></th>\n      <th>Item Name</th>\n      <th>Purchase Count</th>\n      <th>Item Price</th>\n      <th>Total Purchase Value</th>\n    </tr>\n    <tr>\n      <th>Item ID</th>\n      <th></th>\n      <th></th>\n      <th></th>\n      <th></th>\n    </tr>\n  </thead>\n  <tbody>\n    <tr>\n      <th>92</th>\n      <td>[Final Critic]</td>\n      <td>13</td>\n      <td>$4.61</td>\n      <td>$59.99</td>\n    </tr>\n    <tr>\n      <th>178</th>\n      <td>[Oathbreaker, Last Hope of the Breaking Storm]</td>\n      <td>12</td>\n      <td>$4.23</td>\n      <td>$50.76</td>\n    </tr>\n    <tr>\n      <th>82</th>\n      <td>[Nirvana]</td>\n      <td>9</td>\n      <td>$4.90</td>\n      <td>$44.10</td>\n    </tr>\n    <tr>\n      <th>145</th>\n      <td>[Fiery Glass Crusader]</td>\n      <td>9</td>\n      <td>$4.58</td>\n      <td>$41.22</td>\n    </tr>\n    <tr>\n      <th>103</th>\n      <td>[Singed Scalpel]</td>\n      <td>8</td>\n      <td>$4.35</td>\n      <td>$34.80</td>\n    </tr>\n  </tbody>\n</table>\n</div>"
     },
     "metadata": {},
     "execution_count": 27
    }
   ],
   "source": [
    "profitable = purchasedata.groupby([\"Item ID\"])\n",
    "#Preliminary calculations.\n",
    "namePF = popular[\"Item Name\"].unique()\n",
    "pcPF = popular[\"Price\"].count()\n",
    "pricePF = popular[\"Price\"].sum() / pcPF\n",
    "tpvPF = price * pcPF\n",
    "#Creating the DataFrame.\n",
    "profitable = pd.DataFrame({\"Item Name\": namePF,\"Purchase Count\": pcPF,\"Item Price\": pricePF, \"Total Purchase Value\": tpvPF})\n",
    "profitable = profitable.sort_values([\"Total Purchase Value\"], ascending=False)\n",
    "#Formatting.\n",
    "profitable[\"Item Price\"] = profitable[\"Item Price\"].map(\"${:,.2f}\".format)\n",
    "profitable[\"Total Purchase Value\"] = profitable[\"Total Purchase Value\"].map(\"${:,.2f}\".format)\n",
    "#Displaying the first 5 values of the DataFrame\n",
    "profitable.head(5)"
   ]
  },
  {
   "cell_type": "code",
   "execution_count": 28,
   "metadata": {},
   "outputs": [
    {
     "output_type": "stream",
     "name": "stdout",
     "text": "---------------------------------------------------------------------------------------------------------------------------------------------------------------------------------\nObservable Trends\n---------------------------------------------------------------------------------------------------------------------------------------------------------------------------------\nObservation 1: we can clearly see that players are overwhelmingly male. However, despite their significantly creater numbers they are not the largest spenders when looking at gender data. In fact, females spend approximately 1.06 times more than males while people who did not disclose their gender spent approximately 1.11 times more than males.\n---------------------------------------------------------------------------------------------------------------------------------------------------------------------------------\nObservation 2: Almost 45 percent of all players are between 20 and 24 years old while somewhere between 18 and 19 percent are between 15 and 19 years old. This leads us to believe that the game is most popular among people in their late teenage years and early adulthood as together they make up almost 2/3rds of the entire player base with their combined percentage standing at almost 64 percent.\n---------------------------------------------------------------------------------------------------------------------------------------------------------------------------------\nPeople between the ages of 35 and 39 are the heaviest spenders as they spend on average $3.60 per purchase. Perhaps this is an indication of more disposable income which comes as a result of job security and seniority when one is older. Coming in second are players below the age of 10 who spend on average $3.35 per purchase. Perhaps this could be explained by the fact that people falling within this age range generally do not have much value for money and this game could be a very big priority at the moment in their lives hence making them more inclined to spend.\n---------------------------------------------------------------------------------------------------------------------------------------------------------------------------------\nFinally, based on spending patters, we can see that the items Final Critic and Oathbreaker, Last Hope of the Breaking Storm, are the most popular and profitable items. This is evident by the purchase counts and total purchases values which stand at 13 & 12 and $59.99 & $50.76 respectively.\n---------------------------------------------------------------------------------------------------------------------------------------------------------------------------------\n"
    }
   ],
   "source": [
    "print(\"---------------------------------------------------------------------------------------------------------------------------------------------------------------------------------\")\n",
    "print(\"Observable Trends\")\n",
    "print(\"---------------------------------------------------------------------------------------------------------------------------------------------------------------------------------\")\n",
    "print(\"Observation 1: we can clearly see that players are overwhelmingly male. However, despite their significantly creater numbers they are not the largest spenders when looking at gender data. In fact, females spend approximately 1.06 times more than males while people who did not disclose their gender spent approximately 1.11 times more than males.\")\n",
    "print(\"---------------------------------------------------------------------------------------------------------------------------------------------------------------------------------\")\n",
    "print(\"Observation 2: Almost 45 percent of all players are between 20 and 24 years old while somewhere between 18 and 19 percent are between 15 and 19 years old. This leads us to believe that the game is most popular among people in their late teenage years and early adulthood as together they make up almost 2/3rds of the entire player base with their combined percentage standing at almost 64 percent.\")\n",
    "print(\"---------------------------------------------------------------------------------------------------------------------------------------------------------------------------------\")\n",
    "print(\"People between the ages of 35 and 39 are the heaviest spenders as they spend on average $3.60 per purchase. Perhaps this is an indication of more disposable income which comes as a result of job security and seniority when one is older. Coming in second are players below the age of 10 who spend on average $3.35 per purchase. Perhaps this could be explained by the fact that people falling within this age range generally do not have much value for money and this game could be a very big priority at the moment in their lives hence making them more inclined to spend.\")\n",
    "print(\"---------------------------------------------------------------------------------------------------------------------------------------------------------------------------------\")\n",
    "print(\"Finally, based on spending patters, we can see that the items Final Critic and Oathbreaker, Last Hope of the Breaking Storm, are the most popular and profitable items. This is evident by the purchase counts and total purchases values which stand at 13 & 12 and $59.99 & $50.76 respectively.\")\n",
    "print(\"---------------------------------------------------------------------------------------------------------------------------------------------------------------------------------\")"
   ]
  },
  {
   "cell_type": "code",
   "execution_count": null,
   "metadata": {},
   "outputs": [],
   "source": []
  },
  {
   "cell_type": "code",
   "execution_count": null,
   "metadata": {},
   "outputs": [],
   "source": []
  }
 ],
 "metadata": {
  "anaconda-cloud": {},
  "kernel_info": {
   "name": "python3"
  },
  "kernelspec": {
   "display_name": "JupyterLab",
   "language": "python",
   "name": "jupyterlab"
  },
  "language_info": {
   "codemirror_mode": {
    "name": "ipython",
    "version": 3
   },
   "file_extension": ".py",
   "mimetype": "text/x-python",
   "name": "python",
   "nbconvert_exporter": "python",
   "pygments_lexer": "ipython3",
   "version": "3.8.2-final"
  },
  "latex_envs": {
   "LaTeX_envs_menu_present": true,
   "autoclose": false,
   "autocomplete": true,
   "bibliofile": "biblio.bib",
   "cite_by": "apalike",
   "current_citInitial": 1,
   "eqLabelWithNumbers": true,
   "eqNumInitial": 1,
   "hotkeys": {
    "equation": "Ctrl-E",
    "itemize": "Ctrl-I"
   },
   "labels_anchors": false,
   "latex_user_defs": false,
   "report_style_numbering": false,
   "user_envs_cfg": false
  },
  "nteract": {
   "version": "0.2.0"
  }
 },
 "nbformat": 4,
 "nbformat_minor": 4
}